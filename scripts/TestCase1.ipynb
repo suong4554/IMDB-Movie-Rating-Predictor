{
 "cells": [
  {
   "cell_type": "code",
   "execution_count": 1,
   "metadata": {},
   "outputs": [],
   "source": [
    "from rake_nltk import Rake\n",
    "import nltk\n",
    "import pandas as pd\n",
    "import os\n",
    "from sklearn.model_selection import train_test_split\n",
    "from sklearn.linear_model import LinearRegression\n",
    "import matplotlib.pyplot as plt\n"
   ]
  },
  {
   "cell_type": "code",
   "execution_count": 2,
   "metadata": {},
   "outputs": [],
   "source": [
    "def getKeyWords(text):\n",
    "    r = Rake(min_length=1, max_length=1, language=\"english\")\n",
    "    r.extract_keywords_from_text(text)\n",
    "\n",
    "    temp = r.get_ranked_phrases()\n",
    "\n",
    "    if len(temp) > 2:\n",
    "        temp = temp[:3]\n",
    "    elif len(temp) > 1:\n",
    "        temp = temp[:2]\n",
    "        temp.append(\"\")\n",
    "    elif len(temp) > 0:\n",
    "        temp = temp[:1]\n",
    "        temp.append(\"\")\n",
    "        temp.append(\"\")\n",
    "    return temp"
   ]
  },
  {
   "cell_type": "code",
   "execution_count": 3,
   "metadata": {},
   "outputs": [],
   "source": [
    "def getDirectory(dirName, mDF):\n",
    "    for fileName in os.listdir(dirName):\n",
    "        fileNameS = fileName.split(\"_\")\n",
    "        movid = fileNameS[0]\n",
    "        rating = fileNameS[1].replace(\".txt\", \"\")\n",
    "        \n",
    "        with open(dirName + \"\\\\\" + fileName, \"r\", encoding =\"utf-8\") as myfile:\n",
    "            text = myfile.read()\n",
    "            \n",
    "            \n",
    "        keyWords = getKeyWords(text)\n",
    "        keyWords.insert(0, rating)\n",
    "        keyWords.insert(0, movid)\n",
    "        \n",
    "        #print(keyWords)\n",
    "        columns = [\n",
    "            \"ID\",\n",
    "            \"rating\",\n",
    "            \"keyword1\",\n",
    "            \"keyword2\",\n",
    "            \"keyword3\"\n",
    "        ]\n",
    "        \n",
    "        movieDF = pd.DataFrame(pd.Series(keyWords), index = columns)\n",
    "        \n",
    "        \n",
    "        mDF.append(movieDF)"
   ]
  },
  {
   "cell_type": "code",
   "execution_count": 4,
   "metadata": {},
   "outputs": [],
   "source": [
    "def train(trainDF):\n",
    "    targetY = trainDF[\"rating\"]\n",
    "    trainX = trainDF.drop(\"rating\",  axis = 1).drop(\"ID\",  axis = 1)\n",
    "    lm = LinearRegression()\n",
    "    lm.fit(trainX, targetY)"
   ]
  },
  {
   "cell_type": "code",
   "execution_count": null,
   "metadata": {
    "scrolled": false
   },
   "outputs": [],
   "source": [
    "def main():\n",
    "    columns = [\n",
    "        \"ID\",\n",
    "        \"rating\",\n",
    "        \"keyword1\",\n",
    "        \"keyword2\",\n",
    "        \"keyword3\"\n",
    "    ]\n",
    "\n",
    "    mDF = pd.DataFrame(columns = columns)\n",
    "    home_dir = os.path.abspath('').replace(\"scripts\", \"\")\n",
    "    negTrain = home_dir + \"\\\\data\\\\aclImdb\\\\train\\\\neg\"\n",
    "    posTrain = home_dir + \"\\\\data\\\\aclImdb\\\\train\\\\pos\"\n",
    "    \n",
    "    getDirectory(negTrain, mDF)\n",
    "    getDirectory(posTrain, mDF)\n",
    "    train(mDF)\n",
    "    \n",
    "    \n",
    "    tDF = pd.DataFrame(columns = columns)\n",
    "    negTest = home_dir + \"\\\\data\\\\aclImdb\\\\test\\\\neg\"\n",
    "    posTest = home_dir + \"\\\\data\\\\aclImdb\\\\test\\\\pos\"\n",
    "    getDirectory(negTest, tDF)\n",
    "    getDirectory(posTest, tDF)\n",
    "    \n",
    "    Y_actual = tDF[\"rating\"]\n",
    "    X_test = tDF.drop(\"rating\",  axis = 1).drop(\"ID\",  axis = 1)\n",
    "    \n",
    "    Y_pred = lm.predict(X_test)\n",
    "    #print(mDF)\n",
    "    plt.scatter(Y_actual, Y_pred)\n",
    "    plt.show()\n",
    "main()"
   ]
  },
  {
   "cell_type": "code",
   "execution_count": null,
   "metadata": {},
   "outputs": [],
   "source": []
  },
  {
   "cell_type": "code",
   "execution_count": null,
   "metadata": {},
   "outputs": [],
   "source": []
  }
 ],
 "metadata": {
  "kernelspec": {
   "display_name": "Python 3",
   "language": "python",
   "name": "python3"
  },
  "language_info": {
   "codemirror_mode": {
    "name": "ipython",
    "version": 3
   },
   "file_extension": ".py",
   "mimetype": "text/x-python",
   "name": "python",
   "nbconvert_exporter": "python",
   "pygments_lexer": "ipython3",
   "version": "3.7.3"
  }
 },
 "nbformat": 4,
 "nbformat_minor": 2
}
