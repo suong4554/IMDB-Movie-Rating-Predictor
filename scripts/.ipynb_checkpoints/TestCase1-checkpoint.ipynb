{
 "cells": [
  {
   "cell_type": "code",
   "execution_count": 1,
   "metadata": {},
   "outputs": [],
   "source": [
    "from rake_nltk import Rake\n",
    "import nltk\n",
    "import pandas as pd\n",
    "import os"
   ]
  },
  {
   "cell_type": "code",
   "execution_count": 6,
   "metadata": {},
   "outputs": [],
   "source": [
    "def getKeyWords(text):\n",
    "    r = Rake(min_length=1, max_length=1, language=\"english\")\n",
    "    r.extract_keywords_from_text(text)\n",
    "\n",
    "    temp = r.get_ranked_phrases()\n",
    "\n",
    "    if len(temp) > 2:\n",
    "        temp = temp[:3]\n",
    "    elif len(temp) > 1:\n",
    "        temp = temp[:2]\n",
    "        temp.append(\"\")\n",
    "    elif len(temp) > 0:\n",
    "        temp = temp[:1]\n",
    "        temp.append(\"\")\n",
    "        temp.append(\"\")\n",
    "    print(temp)\n",
    "    return temp"
   ]
  },
  {
   "cell_type": "code",
   "execution_count": 11,
   "metadata": {},
   "outputs": [],
   "source": [
    "def getDirectory(dirName, mDF):\n",
    "    for fileName in os.listdir(dirName):\n",
    "        fileNameS = fileName.split(\"_\")\n",
    "        movid = fileNameS[0]\n",
    "        rating = fileNameS[1].replace(\".txt\")\n",
    "        \n",
    "        with open(dirName + \"\\\\\" + fileName, \"r\") as myfile:\n",
    "            text = myfile.read()\n",
    "            \n",
    "            \n",
    "        keyWords = getKeyWords(text)\n",
    "        keyWords.insert(0, rating)\n",
    "        keyWords.insert(0, movid)\n",
    "        \n",
    "        print(keyWords)\n",
    "        columns = [\n",
    "            \"ID\",\n",
    "            \"rating\",\n",
    "            \"keyword1\",\n",
    "            \"keyword2\",\n",
    "            \"keyword3\"\n",
    "        ]\n",
    "        \n",
    "        movieDF = pd.DataFrame(keyWords, columns = columns)\n",
    "        \n",
    "        \n",
    "        mDF.append(movieDF)"
   ]
  },
  {
   "cell_type": "code",
   "execution_count": 12,
   "metadata": {},
   "outputs": [
    {
     "ename": "TypeError",
     "evalue": "replace() takes at least 2 arguments (1 given)",
     "output_type": "error",
     "traceback": [
      "\u001b[1;31m---------------------------------------------------------------------------\u001b[0m",
      "\u001b[1;31mTypeError\u001b[0m                                 Traceback (most recent call last)",
      "\u001b[1;32m<ipython-input-12-282cd630c284>\u001b[0m in \u001b[0;36m<module>\u001b[1;34m\u001b[0m\n\u001b[0;32m     14\u001b[0m     \u001b[0mgetDirectory\u001b[0m\u001b[1;33m(\u001b[0m\u001b[0mnegTest\u001b[0m\u001b[1;33m,\u001b[0m \u001b[0mmDF\u001b[0m\u001b[1;33m)\u001b[0m\u001b[1;33m\u001b[0m\u001b[1;33m\u001b[0m\u001b[0m\n\u001b[0;32m     15\u001b[0m     \u001b[0mprint\u001b[0m\u001b[1;33m(\u001b[0m\u001b[0mmDF\u001b[0m\u001b[1;33m)\u001b[0m\u001b[1;33m\u001b[0m\u001b[1;33m\u001b[0m\u001b[0m\n\u001b[1;32m---> 16\u001b[1;33m \u001b[0mmain\u001b[0m\u001b[1;33m(\u001b[0m\u001b[1;33m)\u001b[0m\u001b[1;33m\u001b[0m\u001b[1;33m\u001b[0m\u001b[0m\n\u001b[0m",
      "\u001b[1;32m<ipython-input-12-282cd630c284>\u001b[0m in \u001b[0;36mmain\u001b[1;34m()\u001b[0m\n\u001b[0;32m     12\u001b[0m     \u001b[0mnegTest\u001b[0m \u001b[1;33m=\u001b[0m \u001b[0mhome_dir\u001b[0m \u001b[1;33m+\u001b[0m \u001b[1;34m\"\\\\data\\\\aclImdb\\\\train\\\\neg\"\u001b[0m\u001b[1;33m\u001b[0m\u001b[1;33m\u001b[0m\u001b[0m\n\u001b[0;32m     13\u001b[0m \u001b[1;33m\u001b[0m\u001b[0m\n\u001b[1;32m---> 14\u001b[1;33m     \u001b[0mgetDirectory\u001b[0m\u001b[1;33m(\u001b[0m\u001b[0mnegTest\u001b[0m\u001b[1;33m,\u001b[0m \u001b[0mmDF\u001b[0m\u001b[1;33m)\u001b[0m\u001b[1;33m\u001b[0m\u001b[1;33m\u001b[0m\u001b[0m\n\u001b[0m\u001b[0;32m     15\u001b[0m     \u001b[0mprint\u001b[0m\u001b[1;33m(\u001b[0m\u001b[0mmDF\u001b[0m\u001b[1;33m)\u001b[0m\u001b[1;33m\u001b[0m\u001b[1;33m\u001b[0m\u001b[0m\n\u001b[0;32m     16\u001b[0m \u001b[0mmain\u001b[0m\u001b[1;33m(\u001b[0m\u001b[1;33m)\u001b[0m\u001b[1;33m\u001b[0m\u001b[1;33m\u001b[0m\u001b[0m\n",
      "\u001b[1;32m<ipython-input-11-589269d42f5f>\u001b[0m in \u001b[0;36mgetDirectory\u001b[1;34m(dirName, mDF)\u001b[0m\n\u001b[0;32m      3\u001b[0m         \u001b[0mfileNameS\u001b[0m \u001b[1;33m=\u001b[0m \u001b[0mfileName\u001b[0m\u001b[1;33m.\u001b[0m\u001b[0msplit\u001b[0m\u001b[1;33m(\u001b[0m\u001b[1;34m\"_\"\u001b[0m\u001b[1;33m)\u001b[0m\u001b[1;33m\u001b[0m\u001b[1;33m\u001b[0m\u001b[0m\n\u001b[0;32m      4\u001b[0m         \u001b[0mmovid\u001b[0m \u001b[1;33m=\u001b[0m \u001b[0mfileNameS\u001b[0m\u001b[1;33m[\u001b[0m\u001b[1;36m0\u001b[0m\u001b[1;33m]\u001b[0m\u001b[1;33m\u001b[0m\u001b[1;33m\u001b[0m\u001b[0m\n\u001b[1;32m----> 5\u001b[1;33m         \u001b[0mrating\u001b[0m \u001b[1;33m=\u001b[0m \u001b[0mfileNameS\u001b[0m\u001b[1;33m[\u001b[0m\u001b[1;36m1\u001b[0m\u001b[1;33m]\u001b[0m\u001b[1;33m.\u001b[0m\u001b[0mreplace\u001b[0m\u001b[1;33m(\u001b[0m\u001b[1;34m\".txt\"\u001b[0m\u001b[1;33m)\u001b[0m\u001b[1;33m\u001b[0m\u001b[1;33m\u001b[0m\u001b[0m\n\u001b[0m\u001b[0;32m      6\u001b[0m \u001b[1;33m\u001b[0m\u001b[0m\n\u001b[0;32m      7\u001b[0m         \u001b[1;32mwith\u001b[0m \u001b[0mopen\u001b[0m\u001b[1;33m(\u001b[0m\u001b[0mdirName\u001b[0m \u001b[1;33m+\u001b[0m \u001b[1;34m\"\\\\\"\u001b[0m \u001b[1;33m+\u001b[0m \u001b[0mfileName\u001b[0m\u001b[1;33m,\u001b[0m \u001b[1;34m\"r\"\u001b[0m\u001b[1;33m)\u001b[0m \u001b[1;32mas\u001b[0m \u001b[0mmyfile\u001b[0m\u001b[1;33m:\u001b[0m\u001b[1;33m\u001b[0m\u001b[1;33m\u001b[0m\u001b[0m\n",
      "\u001b[1;31mTypeError\u001b[0m: replace() takes at least 2 arguments (1 given)"
     ]
    }
   ],
   "source": [
    "def main():\n",
    "    columns = [\n",
    "        \"ID\",\n",
    "        \"rating\",\n",
    "        \"keyword1\",\n",
    "        \"keyword2\",\n",
    "        \"keyword3\"\n",
    "    ]\n",
    "\n",
    "    mDF = pd.DataFrame(columns = columns)\n",
    "    home_dir = os.path.abspath('').replace(\"scripts\", \"\")\n",
    "    negTest = home_dir + \"\\\\data\\\\aclImdb\\\\train\\\\neg\"\n",
    "    \n",
    "    getDirectory(negTest, mDF)\n",
    "    print(mDF)\n",
    "main()"
   ]
  },
  {
   "cell_type": "code",
   "execution_count": null,
   "metadata": {},
   "outputs": [],
   "source": []
  }
 ],
 "metadata": {
  "kernelspec": {
   "display_name": "Python 3",
   "language": "python",
   "name": "python3"
  },
  "language_info": {
   "codemirror_mode": {
    "name": "ipython",
    "version": 3
   },
   "file_extension": ".py",
   "mimetype": "text/x-python",
   "name": "python",
   "nbconvert_exporter": "python",
   "pygments_lexer": "ipython3",
   "version": "3.7.3"
  }
 },
 "nbformat": 4,
 "nbformat_minor": 2
}
